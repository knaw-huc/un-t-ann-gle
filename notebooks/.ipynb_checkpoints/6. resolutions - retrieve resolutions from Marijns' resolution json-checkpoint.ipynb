{
 "cells": [
  {
   "cell_type": "markdown",
   "metadata": {},
   "source": [
    "##### Experiment, sheet 6:\n",
    "- versimpelde versie van zittingsdagen-code, alleen om basisinfo van resoluties in te lezen. IGNORE: werkt in deze staat niet."
   ]
  },
  {
   "cell_type": "code",
   "execution_count": 2,
   "metadata": {},
   "outputs": [
    {
     "ename": "AttributeError",
     "evalue": "'str' object has no attribute 'items'",
     "output_type": "error",
     "traceback": [
      "\u001b[0;31m---------------------------------------------------------------------------\u001b[0m",
      "\u001b[0;31mAttributeError\u001b[0m                            Traceback (most recent call last)",
      "\u001b[0;32m<ipython-input-2-221e7f5c88f6>\u001b[0m in \u001b[0;36m<module>\u001b[0;34m\u001b[0m\n\u001b[1;32m     47\u001b[0m         \u001b[0;31m# each hit corresponds with a resolution\u001b[0m\u001b[0;34m\u001b[0m\u001b[0;34m\u001b[0m\u001b[0;34m\u001b[0m\u001b[0m\n\u001b[1;32m     48\u001b[0m         \u001b[0mresolution_line_ids\u001b[0m \u001b[0;34m=\u001b[0m \u001b[0;34m[\u001b[0m\u001b[0;34m]\u001b[0m\u001b[0;34m\u001b[0m\u001b[0;34m\u001b[0m\u001b[0m\n\u001b[0;32m---> 49\u001b[0;31m         \u001b[0mres_traverse\u001b[0m\u001b[0;34m(\u001b[0m\u001b[0mhit\u001b[0m\u001b[0;34m[\u001b[0m\u001b[0;34m'_source'\u001b[0m\u001b[0;34m]\u001b[0m\u001b[0;34m,\u001b[0m\u001b[0mresolution_line_ids\u001b[0m\u001b[0;34m)\u001b[0m\u001b[0;34m\u001b[0m\u001b[0;34m\u001b[0m\u001b[0m\n\u001b[0m\u001b[1;32m     50\u001b[0m \u001b[0;34m\u001b[0m\u001b[0m\n\u001b[1;32m     51\u001b[0m         resolution_info = {'label' : 'resolutions','begin_id' : resolution_line_ids[0], \\\n",
      "\u001b[0;32m<ipython-input-2-221e7f5c88f6>\u001b[0m in \u001b[0;36mres_traverse\u001b[0;34m(node, line_ids)\u001b[0m\n\u001b[1;32m     28\u001b[0m     \u001b[0;32melse\u001b[0m\u001b[0;34m:\u001b[0m                         \u001b[0;31m# if non-leaf node, first visit children\u001b[0m\u001b[0;34m\u001b[0m\u001b[0;34m\u001b[0m\u001b[0m\n\u001b[1;32m     29\u001b[0m         \u001b[0;32mfor\u001b[0m \u001b[0mchild\u001b[0m \u001b[0;32min\u001b[0m \u001b[0mchildren\u001b[0m\u001b[0;34m:\u001b[0m\u001b[0;34m\u001b[0m\u001b[0;34m\u001b[0m\u001b[0m\n\u001b[0;32m---> 30\u001b[0;31m             \u001b[0mres_traverse\u001b[0m\u001b[0;34m(\u001b[0m\u001b[0mchild\u001b[0m\u001b[0;34m,\u001b[0m\u001b[0mline_ids\u001b[0m\u001b[0;34m)\u001b[0m\u001b[0;34m\u001b[0m\u001b[0;34m\u001b[0m\u001b[0m\n\u001b[0m\u001b[1;32m     31\u001b[0m \u001b[0;34m\u001b[0m\u001b[0m\n\u001b[1;32m     32\u001b[0m     \u001b[0;32mreturn\u001b[0m\u001b[0;34m\u001b[0m\u001b[0;34m\u001b[0m\u001b[0m\n",
      "\u001b[0;32m<ipython-input-2-221e7f5c88f6>\u001b[0m in \u001b[0;36mres_traverse\u001b[0;34m(node, line_ids)\u001b[0m\n\u001b[1;32m     28\u001b[0m     \u001b[0;32melse\u001b[0m\u001b[0;34m:\u001b[0m                         \u001b[0;31m# if non-leaf node, first visit children\u001b[0m\u001b[0;34m\u001b[0m\u001b[0;34m\u001b[0m\u001b[0m\n\u001b[1;32m     29\u001b[0m         \u001b[0;32mfor\u001b[0m \u001b[0mchild\u001b[0m \u001b[0;32min\u001b[0m \u001b[0mchildren\u001b[0m\u001b[0;34m:\u001b[0m\u001b[0;34m\u001b[0m\u001b[0;34m\u001b[0m\u001b[0m\n\u001b[0;32m---> 30\u001b[0;31m             \u001b[0mres_traverse\u001b[0m\u001b[0;34m(\u001b[0m\u001b[0mchild\u001b[0m\u001b[0;34m,\u001b[0m\u001b[0mline_ids\u001b[0m\u001b[0;34m)\u001b[0m\u001b[0;34m\u001b[0m\u001b[0;34m\u001b[0m\u001b[0m\n\u001b[0m\u001b[1;32m     31\u001b[0m \u001b[0;34m\u001b[0m\u001b[0m\n\u001b[1;32m     32\u001b[0m     \u001b[0;32mreturn\u001b[0m\u001b[0;34m\u001b[0m\u001b[0;34m\u001b[0m\u001b[0m\n",
      "\u001b[0;32m<ipython-input-2-221e7f5c88f6>\u001b[0m in \u001b[0;36mres_traverse\u001b[0;34m(node, line_ids)\u001b[0m\n\u001b[1;32m     18\u001b[0m \u001b[0;34m\u001b[0m\u001b[0m\n\u001b[1;32m     19\u001b[0m     \u001b[0;31m# assume, first list in dict are the children\u001b[0m\u001b[0;34m\u001b[0m\u001b[0;34m\u001b[0m\u001b[0;34m\u001b[0m\u001b[0m\n\u001b[0;32m---> 20\u001b[0;31m     \u001b[0;32mfor\u001b[0m \u001b[0mkey\u001b[0m\u001b[0;34m,\u001b[0m\u001b[0mval\u001b[0m \u001b[0;32min\u001b[0m \u001b[0mnode\u001b[0m\u001b[0;34m.\u001b[0m\u001b[0mitems\u001b[0m\u001b[0;34m(\u001b[0m\u001b[0;34m)\u001b[0m\u001b[0;34m:\u001b[0m\u001b[0;34m\u001b[0m\u001b[0;34m\u001b[0m\u001b[0m\n\u001b[0m\u001b[1;32m     21\u001b[0m         \u001b[0;32mif\u001b[0m \u001b[0;34m(\u001b[0m\u001b[0mtype\u001b[0m\u001b[0;34m(\u001b[0m\u001b[0mval\u001b[0m\u001b[0;34m)\u001b[0m \u001b[0;34m==\u001b[0m \u001b[0mlist\u001b[0m\u001b[0;34m)\u001b[0m\u001b[0;34m:\u001b[0m\u001b[0;34m\u001b[0m\u001b[0;34m\u001b[0m\u001b[0m\n\u001b[1;32m     22\u001b[0m             \u001b[0mchildren\u001b[0m \u001b[0;34m=\u001b[0m \u001b[0mval\u001b[0m\u001b[0;34m\u001b[0m\u001b[0;34m\u001b[0m\u001b[0m\n",
      "\u001b[0;31mAttributeError\u001b[0m: 'str' object has no attribute 'items'"
     ]
    }
   ],
   "source": [
    "import json\n",
    "import glob\n",
    "import re\n",
    "\n",
    "# read files\n",
    "\n",
    "resolution_annotations=[]\n",
    "\n",
    "def get_resolution_files_for_container(text_container):\n",
    "    path = \"../data/resolutions/*-resolutions.json\"\n",
    "    resolution_file_names = (f for f in glob.glob(path))\n",
    "    return sorted(resolution_file_names)\n",
    "\n",
    "def res_traverse(node, line_ids):\n",
    "    # find the list that represents the children, each child is a dict, assume first list is the correct one\n",
    "    children = []\n",
    "    label_of_children = ''\n",
    "    \n",
    "    # assume, first list in dict are the children\n",
    "    for key,val in node.items():\n",
    "        if (type(val) == list):\n",
    "            children = val\n",
    "            label_of_children = key\n",
    "            break \n",
    "    \n",
    "    if len(children) == 0:        # if no children, do your 'leaf node thing'\n",
    "        line_ids.append(node['metadata']['id'])\n",
    "    else:                         # if non-leaf node, first visit children     \n",
    "        for child in children:\n",
    "            res_traverse(child,line_ids)\n",
    "                            \n",
    "    return\n",
    "\n",
    "# In case of presence of a hierarchical structure, processing/traversal typically starts from a root element.\n",
    "\n",
    "def get_res_root_element(file):\n",
    "    with open(file, 'r') as myfile:\n",
    "        resolution_file=myfile.read() \n",
    "        \n",
    "    resolution_data = json.loads(resolution_file)      \n",
    "    return resolution_data['hits']['hits']\n",
    "\n",
    "for f_name in get_resolution_files_for_container('volume-1705-1'):    \n",
    "    # get list of resolution 'hits'\n",
    "    hits = get_res_root_element(f_name)\n",
    "    for hit in hits:\n",
    "        # each hit corresponds with a resolution\n",
    "        resolution_line_ids = []\n",
    "        res_traverse(hit['_source'],resolution_line_ids)\n",
    "        \n",
    "        resolution_info = {'label' : 'resolutions','begin_id' : resolution_line_ids[0], \\\n",
    "                                      'end_id': resolution_line_ids[-1:], 'id': hit['_id']}\n",
    "        resolution_annotations.append(resolution_info)\n",
    "\n",
    "resolution_annotations"
   ]
  },
  {
   "cell_type": "code",
   "execution_count": null,
   "metadata": {},
   "outputs": [],
   "source": []
  }
 ],
 "metadata": {
  "kernelspec": {
   "display_name": "Python 3",
   "language": "python",
   "name": "python3"
  },
  "language_info": {
   "codemirror_mode": {
    "name": "ipython",
    "version": 3
   },
   "file_extension": ".py",
   "mimetype": "text/x-python",
   "name": "python",
   "nbconvert_exporter": "python",
   "pygments_lexer": "ipython3",
   "version": "3.7.9"
  }
 },
 "nbformat": 4,
 "nbformat_minor": 4
}
