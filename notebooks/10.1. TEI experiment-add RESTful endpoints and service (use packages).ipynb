{
 "cells": [
  {
   "cell_type": "markdown",
   "metadata": {},
   "source": [
    "Volgende stappen\n",
    "- los probleem met JSON serializable op: SegmentedText is niet JSON serializable. DONE: subclass JSONEncoder.\n",
    "- maak Flask based service, die weer asearch functies aanroept - DONE\n",
    "- schrijf handler functies voor aservice REST calls, in de aservice package, op basis huidige functies"
   ]
  },
  {
   "cell_type": "code",
   "execution_count": 1,
   "metadata": {},
   "outputs": [],
   "source": [
    "import sys\n",
    "sys.path.append('../un-t-ann-gle')"
   ]
  },
  {
   "cell_type": "code",
   "execution_count": 2,
   "metadata": {},
   "outputs": [],
   "source": [
    "from extractors import tei_extractor\n",
    "\n",
    "path = '../data/tei-samples/bosb002graa04_01.xml'\n",
    "\n",
    "(all_textelements, all_annotations) = tei_extractor.process([path])"
   ]
  },
  {
   "cell_type": "code",
   "execution_count": 3,
   "metadata": {},
   "outputs": [
    {
     "data": {
      "text/plain": [
       "3130"
      ]
     },
     "execution_count": 3,
     "metadata": {},
     "output_type": "execute_result"
    }
   ],
   "source": [
    "all_textelements.len()"
   ]
  },
  {
   "cell_type": "code",
   "execution_count": 7,
   "metadata": {},
   "outputs": [
    {
     "name": "stdout",
     "output_type": "stream",
     "text": [
      "anchor_f2cfd2d9-af95-4cf6-92d8-17fb499b5095\n",
      "anchor_f2cfd2d9-af95-4cf6-92d8-17fb499b5095\n"
     ]
    },
    {
     "data": {
      "text/plain": [
       "{'label': 'paragraph',\n",
       " 'begin_anchor': anchor_f2cfd2d9-af95-4cf6-92d8-17fb499b5095,\n",
       " 'end_anchor': anchor_f2cfd2d9-af95-4cf6-92d8-17fb499b5095,\n",
       " 'id': 'annot_bd77bac3-51b4-4526-bee3-b9941a84ba40'}"
      ]
     },
     "execution_count": 7,
     "metadata": {},
     "output_type": "execute_result"
    }
   ],
   "source": [
    "# return generator for annotations with a specific label\n",
    "#def get_annotations_of_type(type,annotations):\n",
    "#    return (a for a in annotations if a['label'] == type)\n",
    "\n",
    "from annotation import asearch\n",
    "\n",
    "sample_para = [paras for paras in asearch.get_annotations_of_type('paragraph', all_annotations)][104]\n",
    "print(sample_para['begin_anchor'])\n",
    "print(sample_para['end_anchor'])\n",
    "sample_para"
   ]
  },
  {
   "cell_type": "code",
   "execution_count": 18,
   "metadata": {},
   "outputs": [
    {
     "data": {
      "text/plain": [
       "['__abstractmethods__',\n",
       " '__class__',\n",
       " '__delattr__',\n",
       " '__dict__',\n",
       " '__dir__',\n",
       " '__doc__',\n",
       " '__eq__',\n",
       " '__format__',\n",
       " '__ge__',\n",
       " '__getattribute__',\n",
       " '__gt__',\n",
       " '__hash__',\n",
       " '__init__',\n",
       " '__init_subclass__',\n",
       " '__le__',\n",
       " '__lt__',\n",
       " '__module__',\n",
       " '__ne__',\n",
       " '__new__',\n",
       " '__reduce__',\n",
       " '__reduce_ex__',\n",
       " '__repr__',\n",
       " '__setattr__',\n",
       " '__sizeof__',\n",
       " '__str__',\n",
       " '__subclasshook__',\n",
       " '__weakref__',\n",
       " '_abc_impl',\n",
       " '_anchors',\n",
       " '_new_anchor_id',\n",
       " '_ordered_segments',\n",
       " 'append',\n",
       " 'element_at',\n",
       " 'extend',\n",
       " 'len',\n",
       " 'slice',\n",
       " 'split']"
      ]
     },
     "execution_count": 18,
     "metadata": {},
     "output_type": "execute_result"
    }
   ],
   "source": [
    "dir(all_textelements)"
   ]
  },
  {
   "cell_type": "code",
   "execution_count": 8,
   "metadata": {},
   "outputs": [
    {
     "data": {
      "text/plain": [
       "['Hij wilde iets antwoorden, maar zij luisterde niet. ‘Lieve Mary!’ zoo wendde zij zich tot de andere juffer, ‘zeg gij aan Sawers ons een beker seek te brengen en schuif die tabouret voor Mylord bij het vuur.’']"
      ]
     },
     "execution_count": 8,
     "metadata": {},
     "output_type": "execute_result"
    }
   ],
   "source": [
    "all_textelements.slice(sample_para['begin_anchor'], sample_para['end_anchor'])"
   ]
  },
  {
   "cell_type": "code",
   "execution_count": null,
   "metadata": {},
   "outputs": [],
   "source": [
    "begin_anchor = all_textelements.split(sample_para['begin_anchor'], 11)\n",
    "end_anchor = all_textelements.split(begin_anchor, 8)"
   ]
  },
  {
   "cell_type": "code",
   "execution_count": null,
   "metadata": {},
   "outputs": [],
   "source": [
    "all_textelements.slice(begin_anchor, begin_anchor)"
   ]
  },
  {
   "cell_type": "code",
   "execution_count": null,
   "metadata": {},
   "outputs": [],
   "source": [
    "all_annotations.append({'label':'entity','begin_anchor': begin_anchor,'end_anchor': begin_anchor,\\\n",
    "                    'id': 'annot_'+str(uuid.uuid4()), 'entity_type': 'per', 'entity_text': 'Geertrui'})"
   ]
  },
  {
   "cell_type": "code",
   "execution_count": null,
   "metadata": {},
   "outputs": [],
   "source": [
    "entities = [ents for ents in asearch.get_annotations_of_type('entity', all_annotations)]\n",
    "entities"
   ]
  },
  {
   "cell_type": "code",
   "execution_count": null,
   "metadata": {},
   "outputs": [],
   "source": [
    "# print all annotations overlapping with the entity\n",
    "for a in asearch.get_annotations_overlapping_with(entities[0]['begin_anchor'],entities[0]['end_anchor'],all_annotations):\n",
    "    print(a)"
   ]
  },
  {
   "cell_type": "markdown",
   "metadata": {},
   "source": [
    "Gebruik bovenstaande voor het visualiseren van alle tekst voor een pagina, of alle heads (vanaf het midden van het boek)"
   ]
  },
  {
   "cell_type": "code",
   "execution_count": null,
   "metadata": {},
   "outputs": [],
   "source": [
    "for a in asearch.get_annotations_of_type('page', all_annotations):\n",
    "    if a['id'] == 'page-116':\n",
    "        print(a)"
   ]
  },
  {
   "cell_type": "code",
   "execution_count": null,
   "metadata": {},
   "outputs": [],
   "source": [
    "p116 = [p for p in asearch.get_annotations_of_type('page', all_annotations) if p['id'] == 'page-116'][0]\n",
    "\n",
    "for t in all_textelements.slice(p116['begin_anchor'],p116['end_anchor']):\n",
    "    print(f\"{t}\\n\")"
   ]
  },
  {
   "cell_type": "code",
   "execution_count": null,
   "metadata": {},
   "outputs": [],
   "source": [
    "import json\n",
    "\n",
    "segtextJSONData = json.dumps(all_textelements, indent=4, cls=segmentedtext.SegmentEncoder)\n",
    "print(segtextJSONData)"
   ]
  },
  {
   "cell_type": "code",
   "execution_count": null,
   "metadata": {},
   "outputs": [],
   "source": [
    "# write all_textlines to a file\n",
    "with open(datadir+'all_tei_textlines.json', 'w') as filehandle:\n",
    "    json.dump(all_textelements, filehandle, cls=segmentedtext.SegmentEncoder)"
   ]
  },
  {
   "cell_type": "code",
   "execution_count": null,
   "metadata": {},
   "outputs": [],
   "source": [
    "# write all_annotations to a file\n",
    "with open(datadir+'all_annotations.json', 'w') as filehandle:\n",
    "    json.dump(all_annotations, filehandle, cls=segmentedtext.AnchorEncoder)"
   ]
  },
  {
   "cell_type": "code",
   "execution_count": null,
   "metadata": {},
   "outputs": [],
   "source": [
    "from annotation import aservice\n",
    "from flask import Flask\n",
    "import requests\n",
    "import json"
   ]
  },
  {
   "cell_type": "code",
   "execution_count": null,
   "metadata": {},
   "outputs": [],
   "source": [
    "headers = {'Content-Type': 'application/json'}\n",
    "adata = json.dumps(all_annotations, cls=segmentedtext.AnchorEncoder)\n",
    "response = requests.put(\"http://localhost:5000/annotations\", data = adata, headers=headers)"
   ]
  },
  {
   "cell_type": "code",
   "execution_count": null,
   "metadata": {},
   "outputs": [],
   "source": [
    "response = requests.get(\"http://localhost:5000\")"
   ]
  },
  {
   "cell_type": "code",
   "execution_count": null,
   "metadata": {},
   "outputs": [],
   "source": [
    "response.json()"
   ]
  },
  {
   "cell_type": "code",
   "execution_count": null,
   "metadata": {},
   "outputs": [],
   "source": []
  }
 ],
 "metadata": {
  "kernelspec": {
   "display_name": "Python 3",
   "language": "python",
   "name": "python3"
  },
  "language_info": {
   "codemirror_mode": {
    "name": "ipython",
    "version": 3
   },
   "file_extension": ".py",
   "mimetype": "text/x-python",
   "name": "python",
   "nbconvert_exporter": "python",
   "pygments_lexer": "ipython3",
   "version": "3.8.5"
  }
 },
 "nbformat": 4,
 "nbformat_minor": 4
}
