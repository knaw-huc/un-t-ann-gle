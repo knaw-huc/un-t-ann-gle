{
 "cells": [
  {
   "cell_type": "code",
   "execution_count": 1,
   "metadata": {},
   "outputs": [],
   "source": [
    "import sys\n",
    "sys.path.append('../packages')\n",
    "\n",
    "import requests\n",
    "import json\n",
    "import uuid\n",
    "from textservice import segmentedtext"
   ]
  },
  {
   "cell_type": "markdown",
   "metadata": {},
   "source": [
    "Retrieve the annotation for a specific page in the sample TEI document"
   ]
  },
  {
   "cell_type": "code",
   "execution_count": 2,
   "metadata": {},
   "outputs": [],
   "source": [
    "page_id = \"page-21\"\n",
    "url = \"http://localhost:5001/annotations/\"+page_id\n",
    "response = requests.get(url)"
   ]
  },
  {
   "cell_type": "code",
   "execution_count": 3,
   "metadata": {},
   "outputs": [
    {
     "data": {
      "text/plain": [
       "{'annotations': {'begin_anchor': {'identifier': 'anchor_5182d4c7-d319-4c85-a09c-fa58e6ba0958',\n",
       "   'sequence_number': 386},\n",
       "  'end_anchor': {'identifier': 'anchor_959ec341-c694-4f7b-b040-258bfc191f2d',\n",
       "   'sequence_number': 394},\n",
       "  'id': 'page-21',\n",
       "  'label': 'page',\n",
       "  'resource_id': 'bosb002graa04_01'}}"
      ]
     },
     "execution_count": 3,
     "metadata": {},
     "output_type": "execute_result"
    }
   ],
   "source": [
    "response.json()"
   ]
  },
  {
   "cell_type": "code",
   "execution_count": 4,
   "metadata": {},
   "outputs": [
    {
     "data": {
      "text/plain": [
       "{'begin_anchor': {'identifier': 'anchor_5182d4c7-d319-4c85-a09c-fa58e6ba0958',\n",
       "  'sequence_number': 386},\n",
       " 'end_anchor': {'identifier': 'anchor_959ec341-c694-4f7b-b040-258bfc191f2d',\n",
       "  'sequence_number': 394},\n",
       " 'id': 'page-21',\n",
       " 'label': 'page',\n",
       " 'resource_id': 'bosb002graa04_01'}"
      ]
     },
     "execution_count": 4,
     "metadata": {},
     "output_type": "execute_result"
    }
   ],
   "source": [
    "page_annotation = response.json()['annotations']\n",
    "page_annotation"
   ]
  },
  {
   "cell_type": "code",
   "execution_count": 5,
   "metadata": {},
   "outputs": [],
   "source": [
    "resource_id = page_annotation['resource_id']\n",
    "begin = page_annotation['begin_anchor']['identifier']\n",
    "end = page_annotation['end_anchor']['identifier']\n",
    "\n",
    "response = requests.get(f\"http://localhost:5000/{resource_id}/segmentedtext/textgrid/{begin},{end}\")"
   ]
  },
  {
   "cell_type": "code",
   "execution_count": 6,
   "metadata": {},
   "outputs": [
    {
     "data": {
      "text/plain": [
       "{'text_grid': {'_anchors': [{'identifier': 'anchor_5182d4c7-d319-4c85-a09c-fa58e6ba0958',\n",
       "    'sequence_number': 386},\n",
       "   {'identifier': 'anchor_e695cfd7-a4fb-40b5-81ca-e42292ff0dce',\n",
       "    'sequence_number': 387},\n",
       "   {'identifier': 'anchor_3dd5fa48-61f8-4de2-824b-28a73d64d102',\n",
       "    'sequence_number': 388},\n",
       "   {'identifier': 'anchor_5b5d42b6-ee90-4a35-a907-25a650b368f7',\n",
       "    'sequence_number': 389},\n",
       "   {'identifier': 'anchor_b1e0e773-e7f2-476c-8ebd-85c5159c7256',\n",
       "    'sequence_number': 390},\n",
       "   {'identifier': 'anchor_60f693f5-0f12-4714-b5b5-cbb465ad9b57',\n",
       "    'sequence_number': 391},\n",
       "   {'identifier': 'anchor_9467d8c0-5ef0-48bd-9480-08dd05e04af6',\n",
       "    'sequence_number': 392},\n",
       "   {'identifier': 'anchor_e841a860-301c-48cc-9df8-6975adccf9bd',\n",
       "    'sequence_number': 393},\n",
       "   {'identifier': 'anchor_959ec341-c694-4f7b-b040-258bfc191f2d',\n",
       "    'sequence_number': 394},\n",
       "   {'identifier': 'anchor_1c6253c6-c240-4497-9f4b-461df7bfc9d8',\n",
       "    'sequence_number': 395}],\n",
       "  '_ordered_segments': ['(de tegenspoeden vereenigen ware vrienden), want de mijne hebben mij allen verlaten; slechts u alleen, mijn getrouwste, konden zij niet afschrikken.’ En hem de hand reikende, sprak zij teeder: ‘Hoe goed, dat gij in den avond komt, maar weet ge wel dat het eene roekelooze vermetelheid is, dit heimelijk bezoek? Hoe zoude de koningin het opnemen als zij het eens vernam?’',\n",
       "   '‘Zij zoude er zich zeker niet weinig over ergeren, dat ik hare verstooten zuster eerder mijne hulde durfde brengen dan haar zelve!’',\n",
       "   '‘Hoe moet ik dit verstaan? Gij zijt immers reeds ten hove geweest?’',\n",
       "   '‘Dat is het juist wat ik',\n",
       "   'niet',\n",
       "   'wilde. Het was immers uw wensch dat mijn eerste bezoek',\n",
       "   'u',\n",
       "   'gelden mocht? Gij ziet dien letterlijk vervuld, Mylady! Gisteren in den avond verliet ik den Tower, omhelsde vluchtig mijne zuster, liet door haren huisarts, dien ik vertrouwen kan, op Whitehall eene plotselinge ongesteldheid voorwenden, vermomde mij, steeg te paard en reed met Staunton hier heen - met die voorzorg evenwel, dat ik, toen het dag werd, een omweg door een paar dorpen nam om niemand op',\n",
       "   'het denkbeeld te brengen, dat twee mannen u gingen zien. Als ik terugrijd, is die voorzorg onnoodig; dan heb ik vóór den morgen dat gedeelte van den heerweg bereikt, waar vele paden samenloopen, en niemand kan weten van welk dezer ik kom. Mijne vermomming vol te houden, heeft mij echter iets gekost: gij weet hoe weinig ik gewend ben mijne daden te verbloemen! maar Staunton had mij voorzichtigheid aangeraden om uwentwil, en ik heb mij onderworpen.’'],\n",
       "  'resource_id': 'bosb002graa04_01',\n",
       "  'text_grid_spec': {'anchor_type': 'anchor_obj',\n",
       "   'begin_offset_in_resource': {'identifier': 'anchor_5182d4c7-d319-4c85-a09c-fa58e6ba0958',\n",
       "    'sequence_number': 386},\n",
       "   'end_offset_in_resource': {'identifier': 'anchor_959ec341-c694-4f7b-b040-258bfc191f2d',\n",
       "    'sequence_number': 394}}}}"
      ]
     },
     "execution_count": 6,
     "metadata": {},
     "output_type": "execute_result"
    }
   ],
   "source": [
    "response.json()"
   ]
  },
  {
   "cell_type": "markdown",
   "metadata": {},
   "source": [
    "toon text_grid als een pseudo-visuele weergave, met om en om anchors en tussenliggende tekst, met de tekst geindenteerd."
   ]
  },
  {
   "cell_type": "code",
   "execution_count": 7,
   "metadata": {
    "scrolled": true
   },
   "outputs": [
    {
     "name": "stdout",
     "output_type": "stream",
     "text": [
      "anchor_5182d4c7-d319-4c85-a09c-fa58e6ba0958\n",
      "\n",
      "(de tegenspoeden vereenigen ware vrienden), want de mijne hebben mij allen verlaten; slechts u alleen, mijn getrouwste, konden zij niet afschrikken.’ En hem de hand reikende, sprak zij teeder: ‘Hoe goed, dat gij in den avond komt, maar weet ge wel dat het eene roekelooze vermetelheid is, dit heimelijk bezoek? Hoe zoude de koningin het opnemen als zij het eens vernam?’\n",
      "\n",
      "anchor_e695cfd7-a4fb-40b5-81ca-e42292ff0dce\n",
      "\n",
      "‘Zij zoude er zich zeker niet weinig over ergeren, dat ik hare verstooten zuster eerder mijne hulde durfde brengen dan haar zelve!’\n",
      "\n",
      "anchor_3dd5fa48-61f8-4de2-824b-28a73d64d102\n",
      "\n",
      "‘Hoe moet ik dit verstaan? Gij zijt immers reeds ten hove geweest?’\n",
      "\n",
      "anchor_5b5d42b6-ee90-4a35-a907-25a650b368f7\n",
      "\n",
      "‘Dat is het juist wat ik\n",
      "\n",
      "anchor_b1e0e773-e7f2-476c-8ebd-85c5159c7256\n",
      "\n",
      "niet\n",
      "\n",
      "anchor_60f693f5-0f12-4714-b5b5-cbb465ad9b57\n",
      "\n",
      "wilde. Het was immers uw wensch dat mijn eerste bezoek\n",
      "\n",
      "anchor_9467d8c0-5ef0-48bd-9480-08dd05e04af6\n",
      "\n",
      "u\n",
      "\n",
      "anchor_e841a860-301c-48cc-9df8-6975adccf9bd\n",
      "\n",
      "gelden mocht? Gij ziet dien letterlijk vervuld, Mylady! Gisteren in den avond verliet ik den Tower, omhelsde vluchtig mijne zuster, liet door haren huisarts, dien ik vertrouwen kan, op Whitehall eene plotselinge ongesteldheid voorwenden, vermomde mij, steeg te paard en reed met Staunton hier heen - met die voorzorg evenwel, dat ik, toen het dag werd, een omweg door een paar dorpen nam om niemand op\n",
      "\n",
      "anchor_959ec341-c694-4f7b-b040-258bfc191f2d\n",
      "\n",
      "het denkbeeld te brengen, dat twee mannen u gingen zien. Als ik terugrijd, is die voorzorg onnoodig; dan heb ik vóór den morgen dat gedeelte van den heerweg bereikt, waar vele paden samenloopen, en niemand kan weten van welk dezer ik kom. Mijne vermomming vol te houden, heeft mij echter iets gekost: gij weet hoe weinig ik gewend ben mijne daden te verbloemen! maar Staunton had mij voorzichtigheid aangeraden om uwentwil, en ik heb mij onderworpen.’\n",
      "\n",
      "anchor_1c6253c6-c240-4497-9f4b-461df7bfc9d8\n"
     ]
    }
   ],
   "source": [
    "# doorloop _anchors, toon anchor en segment bij die index\n",
    "# textgrid = response.json()['text_grid']\n",
    "\n",
    "textgrid = segmentedtext.SplittableSegmentedText.from_json(response.json()['text_grid'])\n",
    "\n",
    "anchors = textgrid._anchors\n",
    "segments = textgrid._ordered_segments\n",
    "\n",
    "for i, segment in enumerate(segments):\n",
    "    print(anchors[i].identifier+'\\n')\n",
    "    print(segment+'\\n')\n",
    "    \n",
    "# and closing anchor\n",
    "print(anchors[-1].identifier)"
   ]
  },
  {
   "cell_type": "markdown",
   "metadata": {},
   "source": [
    "Simuleer selectie van een stukje tekst, nl 'Whitehall' in het 1 na laatste segment."
   ]
  },
  {
   "cell_type": "code",
   "execution_count": 8,
   "metadata": {},
   "outputs": [
    {
     "name": "stdout",
     "output_type": "stream",
     "text": [
      "gelden mocht? Gij ziet dien letterlijk vervuld, Mylady! Gisteren in den avond verliet ik den Tower, omhelsde vluchtig mijne zuster, liet door haren huisarts, dien ik vertrouwen kan, op Whitehall eene plotselinge ongesteldheid voorwenden, vermomde mij, steeg te paard en reed met Staunton hier heen - met die voorzorg evenwel, dat ik, toen het dag werd, een omweg door een paar dorpen nam om niemand op\n"
     ]
    }
   ],
   "source": [
    "begin_anchor_id = 'anchor_e841a860-301c-48cc-9df8-6975adccf9bd'\n",
    "end_anchor_id = 'anchor_959ec341-c694-4f7b-b040-258bfc191f2d'\n",
    "char_offset = 185\n",
    "char_len = 9\n",
    "\n",
    "print(segments[7])"
   ]
  },
  {
   "cell_type": "code",
   "execution_count": 9,
   "metadata": {},
   "outputs": [
    {
     "name": "stdout",
     "output_type": "stream",
     "text": [
      "Whitehall\n"
     ]
    }
   ],
   "source": [
    "print(segments[7][185:194])"
   ]
  },
  {
   "cell_type": "code",
   "execution_count": 11,
   "metadata": {},
   "outputs": [
    {
     "name": "stdout",
     "output_type": "stream",
     "text": [
      "ba: anchor_e841a860-301c-48cc-9df8-6975adccf9bd ea: anchor_959ec341-c694-4f7b-b040-258bfc191f2d\n"
     ]
    }
   ],
   "source": [
    "# find begin and end anchors by id\n",
    "begin_anchor = [a for a in anchors if a.identifier == begin_anchor_id][0]\n",
    "end_anchor = [a for a in anchors if a.identifier == end_anchor_id][0]\n",
    "\n",
    "print(f'ba: {begin_anchor} ea: {end_anchor}')"
   ]
  },
  {
   "cell_type": "code",
   "execution_count": 12,
   "metadata": {},
   "outputs": [
    {
     "data": {
      "text/plain": [
       "{'resource_id': 'bosb002graa04_01',\n",
       " 'label': 'entity',\n",
       " 'begin_anchor': anchor_e841a860-301c-48cc-9df8-6975adccf9bd,\n",
       " 'end_anchor': anchor_959ec341-c694-4f7b-b040-258bfc191f2d,\n",
       " 'id': 'annot_2dcaca12-4389-498a-abf5-143dbcbe1419',\n",
       " 'entity_type': 'loc',\n",
       " 'entity_text': 'Whitehall'}"
      ]
     },
     "execution_count": 12,
     "metadata": {},
     "output_type": "execute_result"
    }
   ],
   "source": [
    "entity_ann = {'resource_id': resource_id, 'label':'entity','begin_anchor': begin_anchor,\\\n",
    "              'end_anchor': end_anchor,'id': 'annot_'+str(uuid.uuid4()), 'entity_type': 'loc', \\\n",
    "              'entity_text': 'Whitehall'}\n",
    "\n",
    "entity_ann"
   ]
  },
  {
   "cell_type": "code",
   "execution_count": 13,
   "metadata": {},
   "outputs": [
    {
     "data": {
      "text/plain": [
       "{'resource_id': 'bosb002graa04_01',\n",
       " 'label': 'entity',\n",
       " 'begin_anchor': anchor_e841a860-301c-48cc-9df8-6975adccf9bd,\n",
       " 'end_anchor': anchor_959ec341-c694-4f7b-b040-258bfc191f2d,\n",
       " 'id': 'annot_2dcaca12-4389-498a-abf5-143dbcbe1419',\n",
       " 'entity_type': 'loc',\n",
       " 'entity_text': 'Whitehall',\n",
       " 'char_offset': 185,\n",
       " 'char_len': 9}"
      ]
     },
     "execution_count": 13,
     "metadata": {},
     "output_type": "execute_result"
    }
   ],
   "source": [
    "entity_ann['char_offset'] = char_offset\n",
    "entity_ann['char_len'] = char_len\n",
    "\n",
    "entity_ann"
   ]
  },
  {
   "cell_type": "markdown",
   "metadata": {},
   "source": [
    "Sla de nieuwe annotatie op in annotationstore"
   ]
  },
  {
   "cell_type": "code",
   "execution_count": 14,
   "metadata": {},
   "outputs": [
    {
     "data": {
      "text/plain": [
       "<Response [200]>"
      ]
     },
     "execution_count": 14,
     "metadata": {},
     "output_type": "execute_result"
    }
   ],
   "source": [
    "headers = {\"Content-Type\": \"application/json\"}\n",
    "url = \"http://localhost:5001/annotations\"\n",
    "response = requests.put(url, data=json.dumps(entity_ann, indent=4, cls=segmentedtext.SegmentEncoder), headers=headers)\n",
    "\n",
    "response"
   ]
  },
  {
   "cell_type": "markdown",
   "metadata": {},
   "source": [
    "TODO NEXT: as a test retrieve annotations overlapping with page-21 and check if the newly created entity is included"
   ]
  },
  {
   "cell_type": "code",
   "execution_count": 15,
   "metadata": {},
   "outputs": [],
   "source": [
    "url = \"http://localhost:5001/bosb002graa04_01/annotations/anchor_5182d4c7-d319-4c85-a09c-fa58e6ba0958,anchor_959ec341-c694-4f7b-b040-258bfc191f2d\"\n",
    "response = requests.get(url)"
   ]
  },
  {
   "cell_type": "code",
   "execution_count": 16,
   "metadata": {},
   "outputs": [
    {
     "data": {
      "text/plain": [
       "{'annotations': [{'begin_anchor': {'identifier': 'anchor_e695cfd7-a4fb-40b5-81ca-e42292ff0dce',\n",
       "    'sequence_number': 387},\n",
       "   'end_anchor': {'identifier': 'anchor_e695cfd7-a4fb-40b5-81ca-e42292ff0dce',\n",
       "    'sequence_number': 387},\n",
       "   'id': 'annot_c770527e-7562-49c5-9d03-06742e2f087e',\n",
       "   'label': 'paragraph',\n",
       "   'resource_id': 'bosb002graa04_01'},\n",
       "  {'begin_anchor': {'identifier': 'anchor_3dd5fa48-61f8-4de2-824b-28a73d64d102',\n",
       "    'sequence_number': 388},\n",
       "   'end_anchor': {'identifier': 'anchor_3dd5fa48-61f8-4de2-824b-28a73d64d102',\n",
       "    'sequence_number': 388},\n",
       "   'id': 'annot_bb4c2950-82e6-40c8-a77a-2343b3d7cbca',\n",
       "   'label': 'paragraph',\n",
       "   'resource_id': 'bosb002graa04_01'},\n",
       "  {'begin_anchor': {'identifier': 'anchor_5b5d42b6-ee90-4a35-a907-25a650b368f7',\n",
       "    'sequence_number': 389},\n",
       "   'end_anchor': {'identifier': 'anchor_959ec341-c694-4f7b-b040-258bfc191f2d',\n",
       "    'sequence_number': 394},\n",
       "   'id': 'annot_377db17d-cf7d-49ec-95b3-98fc934dfac7',\n",
       "   'label': 'paragraph',\n",
       "   'resource_id': 'bosb002graa04_01'},\n",
       "  {'begin_anchor': {'identifier': 'anchor_5182d4c7-d319-4c85-a09c-fa58e6ba0958',\n",
       "    'sequence_number': 386},\n",
       "   'end_anchor': {'identifier': 'anchor_959ec341-c694-4f7b-b040-258bfc191f2d',\n",
       "    'sequence_number': 394},\n",
       "   'id': 'page-21',\n",
       "   'label': 'page',\n",
       "   'resource_id': 'bosb002graa04_01'},\n",
       "  {'begin_anchor': {'identifier': 'anchor_dfc00674-ee82-492d-af99-2a44190b9155',\n",
       "    'sequence_number': 298},\n",
       "   'end_anchor': {'identifier': 'anchor_15650e41-aeac-4bb1-8ed3-025e4a516612',\n",
       "    'sequence_number': 491},\n",
       "   'id': 'annot_a56ca19d-d32d-4477-bee1-12c1f2b4821b',\n",
       "   'label': 'section',\n",
       "   'resource_id': 'bosb002graa04_01'},\n",
       "  {'begin_anchor': {'identifier': 'anchor_dfc00674-ee82-492d-af99-2a44190b9155',\n",
       "    'sequence_number': 298},\n",
       "   'end_anchor': {'identifier': 'anchor_15650e41-aeac-4bb1-8ed3-025e4a516612',\n",
       "    'sequence_number': 491},\n",
       "   'id': 'annot_cf0e329a-d7d4-4c27-9ba0-5325ac117eb0',\n",
       "   'label': 'chapter',\n",
       "   'resource_id': 'bosb002graa04_01'},\n",
       "  {'begin_anchor': {'identifier': 'anchor_e841a860-301c-48cc-9df8-6975adccf9bd',\n",
       "    'sequence_number': 393},\n",
       "   'char_len': 9,\n",
       "   'char_offset': 185,\n",
       "   'end_anchor': {'identifier': 'anchor_959ec341-c694-4f7b-b040-258bfc191f2d',\n",
       "    'sequence_number': 394},\n",
       "   'entity_text': 'Whitehall',\n",
       "   'entity_type': 'loc',\n",
       "   'id': 'annot_2dcaca12-4389-498a-abf5-143dbcbe1419',\n",
       "   'label': 'entity',\n",
       "   'resource_id': 'bosb002graa04_01'}]}"
      ]
     },
     "execution_count": 16,
     "metadata": {},
     "output_type": "execute_result"
    }
   ],
   "source": [
    "response.json()"
   ]
  },
  {
   "cell_type": "code",
   "execution_count": null,
   "metadata": {},
   "outputs": [],
   "source": []
  },
  {
   "cell_type": "code",
   "execution_count": null,
   "metadata": {},
   "outputs": [],
   "source": []
  }
 ],
 "metadata": {
  "kernelspec": {
   "display_name": "Python 3",
   "language": "python",
   "name": "python3"
  },
  "language_info": {
   "codemirror_mode": {
    "name": "ipython",
    "version": 3
   },
   "file_extension": ".py",
   "mimetype": "text/x-python",
   "name": "python",
   "nbconvert_exporter": "python",
   "pygments_lexer": "ipython3",
   "version": "3.9.2"
  }
 },
 "nbformat": 4,
 "nbformat_minor": 4
}
