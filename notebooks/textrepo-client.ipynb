{
 "cells": [
  {
   "cell_type": "code",
   "execution_count": 34,
   "metadata": {},
   "outputs": [],
   "source": [
    "import requests\n",
    "import uuid\n",
    "from pprint import pprint\n",
    "\n",
    "base_uri = \"https://demorepo.tt.di.huc.knaw.nl/api\"\n",
    "\n",
    "def delete_document_recursively(external_id:uuid):\n",
    "    response = requests.delete(url=base_uri+\"/task/delete/documents/\"+external_id)\n",
    "\n",
    "def create_document(external_id:str)->uuid:\n",
    "    response = requests.post(url=base_uri+\"/rest/documents\",json={\"externalId\":external_id})\n",
    "    pprint(response)\n",
    "    return response.json()['id']\n",
    "\n",
    "def create_document_file(doc_id:uuid,type_id:int)->uuid:\n",
    "    response = requests.post(url=base_uri+\"/rest/files\",json={\"docId\":doc_id,\"typeId\":type_id})\n",
    "    pprint(response)\n",
    "    return response.json()['id']\n",
    "\n",
    "def create_file_version(file_id:uuid,contents:str)->uuid:\n",
    "    response = requests.post(url=base_uri+\"/rest/versions\",files={\"fileId\":file_id,\"contents\":contents})\n",
    "    pprint(response.request)\n",
    "    pprint(response.json())\n",
    "    return response.json()['id']\n",
    "\n",
    "def get_types() -> dict:\n",
    "    response = requests.get(url=f'{base_uri}/rest/types')\n",
    "    pprint(response)\n",
    "    return {r['id']:r['name'] for r in response.json()}"
   ]
  },
  {
   "cell_type": "code",
   "execution_count": 35,
   "metadata": {},
   "outputs": [
    {
     "name": "stdout",
     "output_type": "stream",
     "text": [
      "<Response [200]>\n",
      "{40: 'plain_text', 41: 'plaintext', 42: 'HTML'}\n"
     ]
    }
   ],
   "source": [
    "types_dict = get_types()\n",
    "pprint(types_dict)"
   ]
  },
  {
   "cell_type": "code",
   "execution_count": 30,
   "metadata": {},
   "outputs": [
    {
     "name": "stdout",
     "output_type": "stream",
     "text": [
      "<Response [200]>\n",
      "docId=c26cb59b-752c-40b5-8ffd-c9dad4383581\n",
      "filesURI = https://demorepo.tt.di.huc.knaw.nl/api/rest/documents/c26cb59b-752c-40b5-8ffd-c9dad4383581/files\n",
      "<Response [200]>\n",
      "fileId=fe7bee8a-b36a-4b21-be33-d1a2cb8eb41c\n",
      "versionsURI = https://demorepo.tt.di.huc.knaw.nl/api/rest/files/fe7bee8a-b36a-4b21-be33-d1a2cb8eb41c/versions\n",
      "<PreparedRequest [POST]>\n",
      "{'contentsSha': '975152f695348cf551f4eda4a5b3c897566a0ed4b517109c404f73a0',\n",
      " 'createdAt': '2021-03-11T15:56:49',\n",
      " 'fileId': 'fe7bee8a-b36a-4b21-be33-d1a2cb8eb41c',\n",
      " 'id': '43113b82-877d-4d47-a02c-19e07d59d215'}\n",
      "versionId=43113b82-877d-4d47-a02c-19e07d59d215\n",
      "contentsURI = https://demorepo.tt.di.huc.knaw.nl/api/rest/versions/43113b82-877d-4d47-a02c-19e07d59d215/contents\n"
     ]
    }
   ],
   "source": [
    "external_id=\"test_session\"\n",
    "delete_document_recursively(external_id)\n",
    "doc_id = create_document(external_id)\n",
    "print(\"docId=\"+doc_id)\n",
    "print(\"filesURI = \"+base_uri+\"/rest/documents/\"+doc_id+\"/files\")\n",
    "file_id = create_document_file(doc_id,40)\n",
    "print(\"fileId=\"+file_id)\n",
    "print(\"versionsURI = \"+base_uri+\"/rest/files/\"+file_id+\"/versions\")\n",
    "version_id = create_file_version(file_id,\"Lorem ipsum dolor amacet\")\n",
    "print(\"versionId=\"+version_id)\n",
    "print(\"contentsURI = \"+base_uri+\"/rest/versions/\"+version_id+\"/contents\")\n"
   ]
  },
  {
   "cell_type": "code",
   "execution_count": null,
   "metadata": {},
   "outputs": [],
   "source": []
  }
 ],
 "metadata": {
  "kernelspec": {
   "display_name": "Python 3",
   "language": "python",
   "name": "python3"
  },
  "language_info": {
   "codemirror_mode": {
    "name": "ipython",
    "version": 3
   },
   "file_extension": ".py",
   "mimetype": "text/x-python",
   "name": "python",
   "nbconvert_exporter": "python",
   "pygments_lexer": "ipython3",
   "version": "3.8.5"
  }
 },
 "nbformat": 4,
 "nbformat_minor": 4
}
