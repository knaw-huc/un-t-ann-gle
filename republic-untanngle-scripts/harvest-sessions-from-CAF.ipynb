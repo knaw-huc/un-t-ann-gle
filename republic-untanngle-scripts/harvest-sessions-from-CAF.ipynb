{
 "cells": [
  {
   "cell_type": "markdown",
   "id": "dc09438b",
   "metadata": {},
   "source": [
    "scriptje voor harvesten van CAF data uit online elastic indexen"
   ]
  },
  {
   "cell_type": "code",
   "execution_count": 1,
   "id": "9e0f0039",
   "metadata": {},
   "outputs": [],
   "source": [
    "session_query = \"https://annotation.republic-caf.diginfra.org/elasticsearch/session_lines/_doc/_search?q=metadata.session_year:1728&size=10000\""
   ]
  },
  {
   "cell_type": "code",
   "execution_count": 2,
   "id": "06ca95c5",
   "metadata": {},
   "outputs": [
    {
     "data": {
      "text/plain": [
       "'https://annotation.republic-caf.diginfra.org/elasticsearch/session_lines/_doc/_search?q=metadata.session_year:1728&size=10000'"
      ]
     },
     "execution_count": 2,
     "metadata": {},
     "output_type": "execute_result"
    }
   ],
   "source": [
    "session_query"
   ]
  },
  {
   "cell_type": "code",
   "execution_count": null,
   "id": "6387056f",
   "metadata": {},
   "outputs": [],
   "source": []
  },
  {
   "cell_type": "code",
   "execution_count": 3,
   "id": "d8a8df7e",
   "metadata": {},
   "outputs": [],
   "source": [
    "import requests\n",
    "import json\n",
    "\n",
    "response = requests.get(session_query)\n",
    "    \n",
    "with open('un-t-ann-gle/data/1728/CAF-json/sessions-1728-output-18jul22.json', 'w') as filehandle:\n",
    "    json.dump(response.json(), filehandle, indent=4)"
   ]
  },
  {
   "cell_type": "code",
   "execution_count": null,
   "id": "97b3900f",
   "metadata": {},
   "outputs": [],
   "source": []
  }
 ],
 "metadata": {
  "kernelspec": {
   "display_name": "Python 3",
   "language": "python",
   "name": "python3"
  },
  "language_info": {
   "codemirror_mode": {
    "name": "ipython",
    "version": 3
   },
   "file_extension": ".py",
   "mimetype": "text/x-python",
   "name": "python",
   "nbconvert_exporter": "python",
   "pygments_lexer": "ipython3",
   "version": "3.9.4"
  }
 },
 "nbformat": 4,
 "nbformat_minor": 5
}
